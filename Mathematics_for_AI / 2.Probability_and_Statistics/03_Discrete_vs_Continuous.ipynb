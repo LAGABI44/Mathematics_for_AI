{
  "nbformat": 4,
  "nbformat_minor": 0,
  "metadata": {
    "colab": {
      "name": "03.Discrete_vs_Continuous.ipynb",
      "provenance": [],
      "authorship_tag": "ABX9TyMoLrJeLkSCNX3jfNoA0mj+"
    },
    "kernelspec": {
      "name": "python3",
      "display_name": "Python 3"
    },
    "language_info": {
      "name": "python"
    }
  },
  "cells": [
    {
      "cell_type": "markdown",
      "source": [
        "# 3. 이산확률과 연속확률\n",
        "## 1. 확률변수\n",
        "### (1) 확률변수란?\n",
        "- 임의실험의 결과에 실수값을 대응시켜 주는 함수\n",
        "- X, Y, Z 등으로 표현\n",
        "\n",
        "### (2) 확률변수의 종류\n",
        "||이산(discrete)확률변수|연속(continuous)확률변수|\n",
        "|---|---|---|\n",
        "|Defn|확률변수가 취할 수 있는 실수값의 수를 셀 수 있는 변수|확률변수가 취할 수 있는 실수값이 어떤 특정구간 전체에 해당하여 그 수를 셀 수 없는 변수|\n",
        "|example|10번 주사위를 던지는 임의실험에서 1이 나오는 수|어떤 회사의 매출 성장률|\n",
        "|PMF|$P_X(x)=P(X=x)$||\n",
        "|PMF 특성|1. 어떤 x값에 대해 $P_X(x)>=0$ </br>2. 각 확률의 합은 1이다. 즉 $\\displaystyle\\sum_{x} P_X(x)=1$||\n",
        "|CDF|X의 누적분포함수 $F_X(x_0)는 X가 x_0$를 넘지 않을 확률을 나타냄 </br>$F_X(x_0)=P(X<=x_0$)||\n",
        "|CDF 특성|1. 모든 x_0에 대해 $0<=F_x(x_0)<+1$ <br>2. 만일 $x_0<x_1$이면 $F_X(x_0)<=F_X(x_1)$||\n",
        "|기댓값|||\n",
        "\n",
        "\n",
        "\n",
        "## Reference\n",
        "1. 박범조, 『현대통계학 이론과 활용』, 시그마프레스(주), 2004, p85 - p136"
      ],
      "metadata": {
        "id": "mBQCkTxXkcO6"
      }
    },
    {
      "cell_type": "code",
      "source": [
        ""
      ],
      "metadata": {
        "id": "Wpo34IhLtWTr"
      },
      "execution_count": null,
      "outputs": []
    }
  ]
}